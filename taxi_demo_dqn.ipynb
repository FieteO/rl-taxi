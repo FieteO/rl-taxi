{
 "cells": [
  {
   "cell_type": "code",
   "execution_count": 1,
   "id": "talented-chick",
   "metadata": {},
   "outputs": [],
   "source": [
    "import os\n",
    "os.environ[\"CUDA_VISIBLE_DEVICES\"]=\"-1\"\n",
    "import tensorflow as tf\n",
    "from rl_agent import QAgent\n",
    "import gym\n",
    "from config import Config"
   ]
  },
  {
   "cell_type": "code",
   "execution_count": null,
   "id": "moved-procedure",
   "metadata": {},
   "outputs": [],
   "source": [
    "def build_model(action_shape):\n",
    "    model = tf.keras.Sequential()\n",
    "    model.add(Embedding(500, 10, input_length=1))\n",
    "    model.add(Reshape((10,)))\n",
    "    model.add(Dense(50, activation='relu'))\n",
    "    model.add(Dense(50, activation='relu'))\n",
    "    model.add(Dense(50, activation='relu'))\n",
    "    model.add(Dense(action_shape, activation='linear'))\n",
    "    return model"
   ]
  },
  {
   "cell_type": "code",
   "execution_count": 2,
   "id": "optimum-place",
   "metadata": {},
   "outputs": [],
   "source": [
    "env = gym.make(\"Taxi-v3\").env\n",
    "RANDOM_SEED = 5\n",
    "config = \"/home/guillaume/src/rl/config.yaml\"\n",
    "model = build_model(env.action_space.n)\n",
    "agent = QAgent(env=env, config=config, model=model)"
   ]
  },
  {
   "cell_type": "code",
   "execution_count": 3,
   "id": "later-colombia",
   "metadata": {},
   "outputs": [],
   "source": [
    "agent.compile()"
   ]
  },
  {
   "cell_type": "code",
   "execution_count": 4,
   "id": "operational-jesus",
   "metadata": {},
   "outputs": [
    {
     "data": {
      "application/vnd.jupyter.widget-view+json": {
       "model_id": "c19d51e599f04c91a4c390ee0e1222bf",
       "version_major": 2,
       "version_minor": 0
      },
      "text/plain": [
       "  0%|          | 0/1000000 [00:00<?, ?it/s]"
      ]
     },
     "metadata": {},
     "output_type": "display_data"
    }
   ],
   "source": [
    "agent.fit()"
   ]
  },
  {
   "cell_type": "code",
   "execution_count": 5,
   "id": "specific-stuart",
   "metadata": {
    "tags": []
   },
   "outputs": [
    {
     "data": {
      "application/vnd.jupyter.widget-view+json": {
       "model_id": "ef90c9bd40a54745b88b070158fd0c6e",
       "version_major": 2,
       "version_minor": 0
      },
      "text/plain": [
       "  0%|          | 0/100 [00:00<?, ?it/s]"
      ]
     },
     "metadata": {},
     "output_type": "display_data"
    },
    {
     "name": "stdout",
     "output_type": "stream",
     "text": [
      "Results after 100 episodes:\n",
      "Average timesteps per episode: 100.0\n",
      "Average penalties per episode: 0.0\n"
     ]
    }
   ],
   "source": [
    "agent.evaluate(max_steps=100)"
   ]
  },
  {
   "cell_type": "code",
   "execution_count": 17,
   "id": "assured-fiber",
   "metadata": {
    "tags": []
   },
   "outputs": [
    {
     "name": "stdout",
     "output_type": "stream",
     "text": [
      "+---------+\n",
      "|\u001b[34;1mR\u001b[0m: | : :G|\n",
      "| : | : : |\n",
      "| : : : : |\n",
      "| | : | : |\n",
      "|\u001b[35mY\u001b[0m|\u001b[43m \u001b[0m: |B: |\n",
      "+---------+\n",
      "  (South)\n",
      "Iter: 15 - Action: 0(South) - Reward -1\n",
      "cannot converge :(\n"
     ]
    }
   ],
   "source": [
    "agent.play(verbose=True, max_steps=15, sleep=0.1)"
   ]
  },
  {
   "cell_type": "code",
   "execution_count": 19,
   "id": "attached-bradley",
   "metadata": {},
   "outputs": [
    {
     "name": "stdout",
     "output_type": "stream",
     "text": [
      "+---------+\n",
      "|\u001b[35mR\u001b[0m: | : :G|\n",
      "| : | : : |\n",
      "| : : : : |\n",
      "| |\u001b[43m \u001b[0m: | : |\n",
      "|\u001b[34;1mY\u001b[0m| : |B: |\n",
      "+---------+\n",
      "  (South)\n"
     ]
    },
    {
     "data": {
      "text/plain": [
       "328"
      ]
     },
     "execution_count": 19,
     "metadata": {},
     "output_type": "execute_result"
    }
   ],
   "source": [
    "# Passenger locations:\n",
    "#     - 0: R(ed)\n",
    "#     - 1: G(reen)\n",
    "#     - 2: Y(ellow)\n",
    "#     - 3: B(lue)\n",
    "#     - 4: in taxi\n",
    "# Destinations:\n",
    "#     - 0: R(ed)\n",
    "#     - 1: G(reen)\n",
    "#     - 2: Y(ellow)\n",
    "#     - 3: B(lue)\n",
    "# Actions:\n",
    "#     There are 6 discrete deterministic actions:\n",
    "#     - 0: move south\n",
    "#     - 1: move north\n",
    "#     - 2: move east\n",
    "#     - 3: move west\n",
    "#     - 4: pickup passenger\n",
    "#     - 5: drop off passenger\n",
    "state = env.encode(3, 1, 2, 0) # (taxi row, taxi column, passenger index, destination index)\n",
    "env.s = state\n",
    "env.render()\n",
    "state\n",
    "# env.step(5)\n",
    "# env.step(5)"
   ]
  },
  {
   "cell_type": "code",
   "execution_count": null,
   "id": "artistic-spencer",
   "metadata": {},
   "outputs": [],
   "source": []
  },
  {
   "cell_type": "code",
   "execution_count": null,
   "id": "included-cream",
   "metadata": {},
   "outputs": [],
   "source": []
  },
  {
   "cell_type": "code",
   "execution_count": null,
   "id": "minimal-challenge",
   "metadata": {},
   "outputs": [],
   "source": []
  },
  {
   "cell_type": "code",
   "execution_count": null,
   "id": "optional-karaoke",
   "metadata": {},
   "outputs": [],
   "source": []
  }
 ],
 "metadata": {
  "kernelspec": {
   "display_name": "Python 3",
   "language": "python",
   "name": "python3"
  },
  "language_info": {
   "codemirror_mode": {
    "name": "ipython",
    "version": 3
   },
   "file_extension": ".py",
   "mimetype": "text/x-python",
   "name": "python",
   "nbconvert_exporter": "python",
   "pygments_lexer": "ipython3",
   "version": "3.8.5"
  }
 },
 "nbformat": 4,
 "nbformat_minor": 5
}
